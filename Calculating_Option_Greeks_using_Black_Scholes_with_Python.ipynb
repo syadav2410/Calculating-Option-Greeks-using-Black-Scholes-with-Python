{
  "nbformat": 4,
  "nbformat_minor": 0,
  "metadata": {
    "colab": {
      "provenance": []
    },
    "kernelspec": {
      "name": "python3",
      "display_name": "Python 3"
    },
    "language_info": {
      "name": "python"
    }
  },
  "cells": [
    {
      "cell_type": "code",
      "execution_count": 1,
      "metadata": {
        "colab": {
          "base_uri": "https://localhost:8080/"
        },
        "id": "ozpyybvFQBOd",
        "outputId": "9f96fc60-b11f-49c4-8a79-8b5462458556"
      },
      "outputs": [
        {
          "output_type": "stream",
          "name": "stdout",
          "text": [
            "Collecting py_vollib\n",
            "  Downloading py_vollib-1.0.1.tar.gz (19 kB)\n",
            "  Preparing metadata (setup.py) ... \u001b[?25l\u001b[?25hdone\n",
            "Collecting py_lets_be_rational (from py_vollib)\n",
            "  Downloading py_lets_be_rational-1.0.1.tar.gz (18 kB)\n",
            "  Preparing metadata (setup.py) ... \u001b[?25l\u001b[?25hdone\n",
            "Collecting simplejson (from py_vollib)\n",
            "  Downloading simplejson-3.19.2-cp310-cp310-manylinux_2_5_x86_64.manylinux1_x86_64.manylinux_2_17_x86_64.manylinux2014_x86_64.whl (137 kB)\n",
            "\u001b[2K     \u001b[90m━━━━━━━━━━━━━━━━━━━━━━━━━━━━━━━━━━━━━━━━\u001b[0m \u001b[32m137.9/137.9 kB\u001b[0m \u001b[31m4.8 MB/s\u001b[0m eta \u001b[36m0:00:00\u001b[0m\n",
            "\u001b[?25hRequirement already satisfied: numpy in /usr/local/lib/python3.10/dist-packages (from py_vollib) (1.25.2)\n",
            "Requirement already satisfied: pandas in /usr/local/lib/python3.10/dist-packages (from py_vollib) (1.5.3)\n",
            "Requirement already satisfied: scipy in /usr/local/lib/python3.10/dist-packages (from py_vollib) (1.11.4)\n",
            "Requirement already satisfied: python-dateutil>=2.8.1 in /usr/local/lib/python3.10/dist-packages (from pandas->py_vollib) (2.8.2)\n",
            "Requirement already satisfied: pytz>=2020.1 in /usr/local/lib/python3.10/dist-packages (from pandas->py_vollib) (2023.4)\n",
            "Requirement already satisfied: six>=1.5 in /usr/local/lib/python3.10/dist-packages (from python-dateutil>=2.8.1->pandas->py_vollib) (1.16.0)\n",
            "Building wheels for collected packages: py_vollib, py_lets_be_rational\n",
            "  Building wheel for py_vollib (setup.py) ... \u001b[?25l\u001b[?25hdone\n",
            "  Created wheel for py_vollib: filename=py_vollib-1.0.1-py3-none-any.whl size=62829 sha256=d7f8947911773a3cd8549afcdb948ab60dfefbf95b48c3324b1a80350a6ccc97\n",
            "  Stored in directory: /root/.cache/pip/wheels/84/0c/fc/b68506eda40cccaeb0013be550ba904d253ec90eae2b156052\n",
            "  Building wheel for py_lets_be_rational (setup.py) ... \u001b[?25l\u001b[?25hdone\n",
            "  Created wheel for py_lets_be_rational: filename=py_lets_be_rational-1.0.1-py3-none-any.whl size=24451 sha256=13bc48563ef9ec6a04ab6dc4e7870810e3713ec274697997822d81d352c5c8c1\n",
            "  Stored in directory: /root/.cache/pip/wheels/32/d9/4f/360d4b0b9ec7c65583ec7c8e72fd2158c97ad04fbcb932891c\n",
            "Successfully built py_vollib py_lets_be_rational\n",
            "Installing collected packages: simplejson, py_lets_be_rational, py_vollib\n",
            "Successfully installed py_lets_be_rational-1.0.1 py_vollib-1.0.1 simplejson-3.19.2\n"
          ]
        }
      ],
      "source": [
        "!pip install py_vollib"
      ]
    },
    {
      "cell_type": "code",
      "source": [
        "import numpy as np\n",
        "from scipy.stats import norm\n",
        "from py_vollib.black_scholes import black_scholes as bs\n",
        "from py_vollib.black_scholes.greeks.analytical import delta, gamma, vega, theta, rho"
      ],
      "metadata": {
        "colab": {
          "base_uri": "https://localhost:8080/"
        },
        "id": "mtSMBcV5QHQg",
        "outputId": "06604dc5-9d13-4caf-901e-4d68008b2b7f"
      },
      "execution_count": 2,
      "outputs": [
        {
          "output_type": "stream",
          "name": "stderr",
          "text": [
            "/usr/local/lib/python3.10/dist-packages/py_lets_be_rational/numba_helper.py:10: NumbaDeprecationWarning: The 'nopython' keyword argument was not supplied to the 'numba.jit' decorator. The implicit default value for this argument is currently False, but it will be changed to True in Numba 0.59.0. See https://numba.readthedocs.io/en/stable/reference/deprecation.html#deprecation-of-object-mode-fall-back-behaviour-when-using-jit for details.\n",
            "  return jit(*jit_args, **jit_kwargs)(fun)\n"
          ]
        }
      ]
    },
    {
      "cell_type": "code",
      "source": [
        "r = 0.01\n",
        "S = 30\n",
        "K = 40\n",
        "T = 240/365\n",
        "sigma = 0.30"
      ],
      "metadata": {
        "id": "zom_XmP8QUYq"
      },
      "execution_count": 3,
      "outputs": []
    },
    {
      "cell_type": "code",
      "source": [
        "def blackScholes(r, S, K, T, sigma, type=\"c\"):\n",
        "    \"Calculate BS price of call/put\"\n",
        "    d1 = (np.log(S/K) + (r + sigma**2/2)*T)/(sigma*np.sqrt(T))\n",
        "    d2 = d1 - sigma*np.sqrt(T)\n",
        "    try:\n",
        "        if type == \"c\":\n",
        "            price = S*norm.cdf(d1, 0, 1) - K*np.exp(-r*T)*norm.cdf(d2, 0, 1)\n",
        "        elif type == \"p\":\n",
        "            price = K*np.exp(-r*T)*norm.cdf(-d2, 0, 1) - S*norm.cdf(-d1, 0, 1)\n",
        "        return price, bs(type, S, K, T, r, sigma)\n",
        "    except:\n",
        "        print(\"Please confirm option type, either 'c' for Call or 'p' for Put!\")"
      ],
      "metadata": {
        "id": "nfXx0ALGQ1YP"
      },
      "execution_count": 4,
      "outputs": []
    },
    {
      "cell_type": "code",
      "source": [
        "print(\"Option Price: \", blackScholes(r, S, K, T, sigma, \"c\"))"
      ],
      "metadata": {
        "colab": {
          "base_uri": "https://localhost:8080/"
        },
        "id": "CYE6ryhNRi2u",
        "outputId": "dff99940-0158-4dce-f620-86f64dd7477d"
      },
      "execution_count": 5,
      "outputs": [
        {
          "output_type": "stream",
          "name": "stdout",
          "text": [
            "Option Price:  (0.5132843798399405, 0.5132843798399411)\n"
          ]
        }
      ]
    },
    {
      "cell_type": "markdown",
      "source": [
        "**Gamma**\n",
        "\n",
        "*   Gamma measures the rate of change in the delta with respect to changes in the underlying price.\n",
        "\n"
      ],
      "metadata": {
        "id": "Q-WoMrGxUAFb"
      }
    },
    {
      "cell_type": "code",
      "source": [
        "def gamma_calc(r, S, K, T, sigma, type=\"c\"):\n",
        "    \"Calculate gamma of a option\"\n",
        "    d1 = (np.log(S/K) + (r + sigma**2/2)*T)/(sigma*np.sqrt(T))\n",
        "    d2 = d1 - sigma*np.sqrt(T)\n",
        "    try:\n",
        "        gamma_calc = norm.pdf(d1, 0, 1)/(S*sigma*np.sqrt(T))\n",
        "        return gamma_calc, gamma(type, S, K, T, r, sigma)\n",
        "    except:\n",
        "        print(\"Please confirm option type, either 'c' for Call or 'p' for Put!\")"
      ],
      "metadata": {
        "id": "ZYtX2Yc4T_pc"
      },
      "execution_count": 6,
      "outputs": []
    },
    {
      "cell_type": "code",
      "source": [
        "print(\"Gamma: \", gamma_calc(r, S, K, T, sigma, \"c\"))"
      ],
      "metadata": {
        "colab": {
          "base_uri": "https://localhost:8080/"
        },
        "id": "nA_f1UbzTiQt",
        "outputId": "c8d5f526-cd1a-4695-b4bb-250768c61c0c"
      },
      "execution_count": 7,
      "outputs": [
        {
          "output_type": "stream",
          "name": "stdout",
          "text": [
            "Gamma:  (0.03203161102008452, 0.03203161102008452)\n"
          ]
        }
      ]
    },
    {
      "cell_type": "markdown",
      "source": [
        "**Delta**\n",
        "\n",
        "*   Delta measures the rate of change of the theoretical option value with respect to changes in the underlying asset's price.\n",
        "\n",
        "\n",
        "\n",
        "\n",
        "\n",
        "\n"
      ],
      "metadata": {
        "id": "8CHVfEVfUrSZ"
      }
    },
    {
      "cell_type": "code",
      "source": [
        "def delta_calc(r, S, K, T, sigma, type=\"c\"):\n",
        "    \"Calculate delta of an option\"\n",
        "    d1 = (np.log(S/K) + (r + sigma**2/2)*T)/(sigma*np.sqrt(T))\n",
        "    try:\n",
        "        if type == \"c\":\n",
        "            delta_calc = norm.cdf(d1, 0, 1)\n",
        "        elif type == \"p\":\n",
        "            delta_calc = -norm.cdf(-d1, 0, 1)\n",
        "        return delta_calc, delta(type, S, K, T, r, sigma)\n",
        "    except:\n",
        "        print(\"Please confirm option type, either 'c' for Call or 'p' for Put!\")"
      ],
      "metadata": {
        "id": "yZiBam22Uh26"
      },
      "execution_count": 8,
      "outputs": []
    },
    {
      "cell_type": "code",
      "source": [
        "print(\"Delta: \", delta_calc(r, S, K, T, sigma, \"c\"))"
      ],
      "metadata": {
        "colab": {
          "base_uri": "https://localhost:8080/"
        },
        "id": "bRzRs19MU2YP",
        "outputId": "3af481fd-1c77-4b4b-cfa0-6b1b8ae6bec4"
      },
      "execution_count": 9,
      "outputs": [
        {
          "output_type": "stream",
          "name": "stdout",
          "text": [
            "Delta:  (0.15058613984880015, 0.15058613984880015)\n"
          ]
        }
      ]
    },
    {
      "cell_type": "markdown",
      "source": [
        "**Vega**\n",
        "\n",
        "*   Vega measures sensitivity to volatility. Vega is the derivative of the option value with respect to the volatility of the underlying asset.\n",
        "\n"
      ],
      "metadata": {
        "id": "jgNZbSIBVCh6"
      }
    },
    {
      "cell_type": "code",
      "source": [
        "def vega_calc(r, S, K, T, sigma, type=\"c\"):\n",
        "    \"Calculate BS price of call/put\"\n",
        "    d1 = (np.log(S/K) + (r + sigma**2/2)*T)/(sigma*np.sqrt(T))\n",
        "    d2 = d1 - sigma*np.sqrt(T)\n",
        "    try:\n",
        "        vega_calc = S*norm.pdf(d1, 0, 1)*np.sqrt(T)\n",
        "        return vega_calc*0.01, vega(type, S, K, T, r, sigma)\n",
        "    except:\n",
        "        print(\"Please confirm option type, either 'c' for Call or 'p' for Put!\")"
      ],
      "metadata": {
        "id": "IhSey14wU9yE"
      },
      "execution_count": 10,
      "outputs": []
    },
    {
      "cell_type": "markdown",
      "source": [
        "**Theta**\n",
        "\n",
        "*   Theta measures the sensitivity of the value of the derivative to the passage of time - time decay.\n",
        "\n"
      ],
      "metadata": {
        "id": "JglxiBsGVOtu"
      }
    },
    {
      "cell_type": "code",
      "source": [
        "def theta_calc(r, S, K, T, sigma, type=\"c\"):\n",
        "    \"Calculate BS price of call/put\"\n",
        "    d1 = (np.log(S/K) + (r + sigma**2/2)*T)/(sigma*np.sqrt(T))\n",
        "    d2 = d1 - sigma*np.sqrt(T)\n",
        "    try:\n",
        "        if type == \"c\":\n",
        "            theta_calc = -S*norm.pdf(d1, 0, 1)*sigma/(2*np.sqrt(T)) - r*K*np.exp(-r*T)*norm.cdf(d2, 0, 1)\n",
        "        elif type == \"p\":\n",
        "            theta_calc = -S*norm.pdf(d1, 0, 1)*sigma/(2*np.sqrt(T)) + r*K*np.exp(-r*T)*norm.cdf(-d2, 0, 1)\n",
        "        return theta_calc/365, theta(type, S, K, T, r, sigma)\n",
        "    except:\n",
        "        print(\"Please confirm option type, either 'c' for Call or 'p' for Put!\")"
      ],
      "metadata": {
        "id": "Lz9F2hYzVNW0"
      },
      "execution_count": 11,
      "outputs": []
    },
    {
      "cell_type": "markdown",
      "source": [
        "**Rho**\n",
        "\n",
        "*   Rho measures the sensitivity to the interest rate.\n",
        "\n"
      ],
      "metadata": {
        "id": "MX62xsTQVdrZ"
      }
    },
    {
      "cell_type": "code",
      "source": [
        "def rho_calc(r, S, K, T, sigma, type=\"c\"):\n",
        "    \"Calculate BS price of call/put\"\n",
        "    d1 = (np.log(S/K) + (r + sigma**2/2)*T)/(sigma*np.sqrt(T))\n",
        "    d2 = d1 - sigma*np.sqrt(T)\n",
        "    try:\n",
        "        if type == \"c\":\n",
        "            rho_calc = K*T*np.exp(-r*T)*norm.cdf(d2, 0, 1)\n",
        "        elif type == \"p\":\n",
        "            rho_calc = -K*T*np.exp(-r*T)*norm.cdf(-d2, 0, 1)\n",
        "        return rho_calc*0.01, rho(type, S, K, T, r, sigma)\n",
        "    except:\n",
        "        print(\"Please confirm option type, either 'c' for Call or 'p' for Put!\")"
      ],
      "metadata": {
        "id": "qtZ6ZRL9VbCZ"
      },
      "execution_count": 12,
      "outputs": []
    },
    {
      "cell_type": "code",
      "source": [
        "option_type='p'\n",
        "\n",
        "print(\"Option Price: \", [round(x,3) for x in blackScholes(r, S, K, T, sigma, option_type)])\n",
        "print(\"       Delta: \", [round(x,3) for x in delta_calc(r, S, K, T, sigma, option_type)])\n",
        "print(\"       Gamma: \", [round(x,3) for x in gamma_calc(r, S, K, T, sigma, option_type)])\n",
        "print(\"       Vega : \", [round(x,3) for x in vega_calc(r, S, K, T, sigma, option_type)])\n",
        "print(\"       Theta: \", [round(x,3) for x in theta_calc(r, S, K, T, sigma, option_type)])\n",
        "print(\"       Rho  : \", [round(x,3) for x in rho_calc(r, S, K, T, sigma, option_type)])"
      ],
      "metadata": {
        "colab": {
          "base_uri": "https://localhost:8080/"
        },
        "id": "mGUAfUCFVXps",
        "outputId": "64e27f4a-6751-46a9-c9fa-a24c403eafa0"
      },
      "execution_count": 13,
      "outputs": [
        {
          "output_type": "stream",
          "name": "stdout",
          "text": [
            "Option Price:  [10.251, 10.251]\n",
            "       Delta:  [-0.849, -0.849]\n",
            "       Gamma:  [0.032, 0.032]\n",
            "       Vega :  [0.057, 0.057]\n",
            "       Theta:  [-0.003, -0.003]\n",
            "       Rho  :  [-0.235, -0.235]\n"
          ]
        }
      ]
    },
    {
      "cell_type": "code",
      "source": [],
      "metadata": {
        "id": "FKNGjJPdVsjp"
      },
      "execution_count": null,
      "outputs": []
    }
  ]
}